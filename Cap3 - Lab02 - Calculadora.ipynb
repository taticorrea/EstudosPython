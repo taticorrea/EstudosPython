{
 "cells": [
  {
   "cell_type": "code",
   "execution_count": 6,
   "metadata": {
    "scrolled": true
   },
   "outputs": [
    {
     "name": "stdout",
     "output_type": "stream",
     "text": [
      "####################Calculadora Python####################\n",
      "2 x 3\n",
      "2.0 x 3.0 = 6.0\n"
     ]
    }
   ],
   "source": [
    "def calc():    \n",
    "    calculo = input()\n",
    "    list = calculo.split()\n",
    "    num1 = float(list[0])\n",
    "    op = list[1]\n",
    "    num2 = float(list[2])\n",
    "\n",
    "    def mult(num1,num2):\n",
    "        print('{} {} {} = {}'.format(num1,op,num2,num1*num2))\n",
    "\n",
    "    def div(num1,num2):\n",
    "        print('{} {} {} = {}'.format(num1,op,num2,num1/num2))\n",
    "\n",
    "    def soma(num1,num2):\n",
    "        print('{} {} {} = {}'.format(num1,op,num2,num1 + num2))\n",
    "\n",
    "    def sub(num1,num2):\n",
    "        print('{} {} {} = {}'.format(num1,op,num2,num1 - num2))\n",
    "    \n",
    "    if op == 'x':\n",
    "        mult(num1,num2)\n",
    "    elif op == '/':\n",
    "        div(num1,num2)\n",
    "    elif op == '+':\n",
    "        soma(num1,num2)\n",
    "    elif op == '-':\n",
    "        sub(num1,num2)\n",
    "print('#'*20 + 'Calculadora Python' + '#'*20)\n",
    "calc()"
   ]
  },
  {
   "cell_type": "code",
   "execution_count": null,
   "metadata": {},
   "outputs": [],
   "source": []
  }
 ],
 "metadata": {
  "kernelspec": {
   "display_name": "Python 3",
   "language": "python",
   "name": "python3"
  },
  "language_info": {
   "codemirror_mode": {
    "name": "ipython",
    "version": 3
   },
   "file_extension": ".py",
   "mimetype": "text/x-python",
   "name": "python",
   "nbconvert_exporter": "python",
   "pygments_lexer": "ipython3",
   "version": "3.7.3"
  }
 },
 "nbformat": 4,
 "nbformat_minor": 2
}
