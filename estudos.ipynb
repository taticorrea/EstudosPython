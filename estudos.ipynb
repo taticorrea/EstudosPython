{
 "cells": [
  {
   "cell_type": "markdown",
   "metadata": {},
   "source": [
    "## Estudos da linguagem Python e do Jupyter Notebook"
   ]
  },
  {
   "cell_type": "markdown",
   "metadata": {},
   "source": [
    "<h1>CAPÍTULO 1</h1>"
   ]
  },
  {
   "cell_type": "markdown",
   "metadata": {},
   "source": [
    "<h3>Built-in functions</h3>"
   ]
  },
  {
   "cell_type": "code",
   "execution_count": null,
   "metadata": {},
   "outputs": [],
   "source": [
    "#printando uma string na tela\n",
    "print('Olá! Mundo')\n",
    "\n",
    "#printando 10 x uma string na tela \n",
    "print('Olá '*10)"
   ]
  },
  {
   "cell_type": "code",
   "execution_count": null,
   "metadata": {},
   "outputs": [],
   "source": [
    "#verificando o tipo de dado \n",
    "print(type(2))\n",
    "print(type(3.4))\n",
    "print(type('Tatiane'))\n",
    "\n",
    "#retornando o valor absoluto do dado \n",
    "abs(-2)\n",
    "\n",
    "#transformando o dado em número binário com prefixo 0b com a função built-in bin()\n",
    "bin (20)\n",
    "\n",
    "s = 'olá! mundo'\n",
    "#colocando TODAS as strings da variavel 's' em capslock\n",
    "print(s.upper())\n",
    "\n",
    "#verificando a posição da string '!' na variável 's'\n",
    "print(s.find('!'))\n",
    "\n",
    "#colocando o PRIMEIRO caracter da variável 's' em maiúsculo\n",
    "print(s.capitalize())"
   ]
  },
  {
   "cell_type": "code",
   "execution_count": null,
   "metadata": {},
   "outputs": [],
   "source": [
    "#indexação \n",
    "texto = 'Meu nome é Tatiane Corrêa da Costa e Silva'\n",
    "print(texto[0])\n",
    "print(texto[19])"
   ]
  },
  {
   "cell_type": "code",
   "execution_count": null,
   "metadata": {},
   "outputs": [],
   "source": [
    "#fatiamento\n",
    "print(texto[1:20])\n",
    "print(texto[:24])\n",
    "print(texto[:-20])"
   ]
  },
  {
   "cell_type": "markdown",
   "metadata": {},
   "source": [
    "<h1>CAPÍTULO 2</h1>"
   ]
  },
  {
   "cell_type": "markdown",
   "metadata": {},
   "source": [
    "<h3>Listas</h3"
   ]
  },
  {
   "cell_type": "code",
   "execution_count": null,
   "metadata": {},
   "outputs": [],
   "source": [
    "#Criando e printando uma lista com 1 elemento\n",
    "lista1 = ['Tatiane,Lecy,Elias']\n",
    "print(lista1)"
   ]
  },
  {
   "cell_type": "code",
   "execution_count": null,
   "metadata": {},
   "outputs": [],
   "source": [
    "#Criando e printando uma lista com 3 elementos\n",
    "lista2 = ['Tatiane','Lecy','Elias']\n",
    "print(lista2)"
   ]
  },
  {
   "cell_type": "code",
   "execution_count": null,
   "metadata": {
    "scrolled": true
   },
   "outputs": [],
   "source": [
    "#Fatiando listas\n",
    "print(lista1[0])\n",
    "\n",
    "print(lista2[1])\n",
    "\n",
    "print(lista1[:2])\n",
    "\n",
    "print(lista2[:2])\n",
    "\n",
    "print(lista1[0:4])\n",
    "\n",
    "print(lista2[0:2])"
   ]
  },
  {
   "cell_type": "code",
   "execution_count": null,
   "metadata": {},
   "outputs": [],
   "source": [
    "lista = [1,3,2]\n",
    "print(lista)\n",
    "\n",
    "# Adiocionando um elemento à lista\n",
    "lista.append(4)\n",
    "print(lista)\n",
    "\n",
    "#Deletando um elemento da lista\n",
    "del lista[0]\n",
    "print(lista)\n",
    "\n",
    "#elemento máximo da lista\n",
    "print(max(lista))\n",
    "\n",
    "#elemento mínimo da lista\n",
    "print(min(lista))\n",
    "\n",
    "#ordenando lista\n",
    "lista.sort()\n",
    "print(lista)\n",
    "\n",
    "#tamanho/numero de elementos da lista\n",
    "print(len(lista))"
   ]
  },
  {
   "cell_type": "code",
   "execution_count": null,
   "metadata": {
    "scrolled": true
   },
   "outputs": [],
   "source": [
    "# Listas aninhadas e atribuição de elementos das listas a variáveis\n",
    "\n",
    "laninhada1 = [[1,2,3],[4,5,6],[7,8,9]]\n",
    "laninhada2 = [[3,2,1],[6,5,4],[9,8,7]]\n",
    "\n",
    "print(laninhada1)\n",
    "\n",
    "a = laninhada1[0]\n",
    "print(a)\n",
    "\n",
    "b = laninhada2[0]\n",
    "print(b)\n",
    "\n",
    "#elemento 1 da lista laninhada1 + elemento 1 do primeiro elemento da lista\n",
    "a = laninhada1[1][1]\n",
    "print(a)"
   ]
  },
  {
   "cell_type": "code",
   "execution_count": null,
   "metadata": {},
   "outputs": [],
   "source": [
    "#Operadores lógicos\n",
    "print('Tatiane' == 'Tatyane')\n",
    "print(5>3)\n",
    "print(2<=2)\n",
    "print(0!=0)"
   ]
  },
  {
   "cell_type": "markdown",
   "metadata": {},
   "source": [
    "<h3>Dicionários</h3"
   ]
  },
  {
   "cell_type": "code",
   "execution_count": null,
   "metadata": {},
   "outputs": [],
   "source": [
    "#Criando e printando na tela um dicionário\n",
    "dicionario = {'chave1':'valor1','chave2':'valor2','chave3':'valor3'}\n",
    "print(dicionario)"
   ]
  },
  {
   "cell_type": "code",
   "execution_count": null,
   "metadata": {},
   "outputs": [],
   "source": [
    "#Adicionando um valor ao dicionário\n",
    "dicionario['chave4'] = 'valor4'\n",
    "print(dicionario)"
   ]
  },
  {
   "cell_type": "markdown",
   "metadata": {},
   "source": [
    "<h3>Tuplas</h3>"
   ]
  },
  {
   "cell_type": "code",
   "execution_count": null,
   "metadata": {},
   "outputs": [],
   "source": [
    "#TUPLAS SÃO IMUTÁVEIS\n",
    "tupla = (1,2,3,4)\n",
    "print(tupla[3])"
   ]
  },
  {
   "cell_type": "markdown",
   "metadata": {},
   "source": [
    "<h1>CAPÍTULO 3</h1>"
   ]
  },
  {
   "cell_type": "markdown",
   "metadata": {},
   "source": [
    "<h3>Condicionais if,else,elif</h3>"
   ]
  },
  {
   "cell_type": "code",
   "execution_count": null,
   "metadata": {},
   "outputs": [],
   "source": [
    "nome = input('Digite seu nome para que seja verificada sua autorização: ')\n",
    "if nome == 'Tatiane':\n",
    "    print('Acesso autorizado!\\nOlá! {}. Seja bem vindo! '.format(nome))\n",
    "else:\n",
    "    print('Infelizmente o usuário {} não está autorizado.'.format(nome))\n"
   ]
  },
  {
   "cell_type": "code",
   "execution_count": null,
   "metadata": {},
   "outputs": [],
   "source": [
    "login = input('Digite seu nome de usuário:\\n')\n",
    "senha = input('Digite sua senha:\\n')\n",
    "if login == 'tcorrea' and senha == 'tccs1993':\n",
    "    print('Login e senha corretos.')\n",
    "else:\n",
    "    print('Login e/ou senha incorretos.')"
   ]
  },
  {
   "cell_type": "code",
   "execution_count": null,
   "metadata": {},
   "outputs": [],
   "source": [
    "##### Pelo menos uma das 4 avaliações fique com + 60% da nota\n",
    " #or\n",
    "\n",
    "# Conceito A => 90%\n",
    "# Conceito B => 80 - 90\n",
    "# Conceito C = 70 - 80\n",
    "#...\n",
    "\n",
    "av1 = int(input('Digite o valor da nota da primeira avaliação: '))\n",
    "av2 = int(input('Digite o valor da nota da segunda avaliação: '))\n",
    "av3 = int(input('Digite o valor da nota da terceira avaliação: '))\n",
    "av4 = int(input('Digite o valor da nota da quarta avaliação: '))\n",
    "\n",
    "#Mapeando maior número\n",
    "if av1 > av2 and av1 > av3 and av1 > av4:\n",
    "    maior = av1\n",
    "elif av2 > av1 and av2 > av3 and av2 > av4:\n",
    "    maior = av2\n",
    "elif av3 > av1 and av3 > av2 and av3 > av4:\n",
    "    maior = av3\n",
    "elif av4 > av1 and av4 > av2 and av4 > av3:\n",
    "    maior = av4\n",
    "    \n",
    "print('A maior nota é {}'.format(maior))\n",
    "if maior >= 0.9*10:\n",
    "    conceito = 'A'\n",
    "elif 0.8*10 < maior < 0.9*10:\n",
    "    conceito = 'B'\n",
    "elif 0.7*10 <= maior < 0.8*10:\n",
    "    conceito = 'C'\n",
    "elif 0.6*10 <= maior < 0.7*10:\n",
    "    conceito = 'D'\n",
    "elif maior <= 0.6*10:\n",
    "    conceito = 'R'\n",
    "\n",
    "if maior > 0.6*10:\n",
    "    print('Aprovado com conceito {}'.format(conceito))\n",
    "else:\n",
    "    print('Aluno reprovado: Conceito {}'.format(conceito))\n"
   ]
  },
  {
   "cell_type": "markdown",
   "metadata": {},
   "source": [
    "<h3>Loop for</h3>"
   ]
  },
  {
   "cell_type": "code",
   "execution_count": null,
   "metadata": {},
   "outputs": [],
   "source": [
    "#imprimindo na tela cada elemento da tupla \n",
    "\n",
    "tupla = (1,2,3,4)\n",
    "for i in tupla:\n",
    "    print(i)\n",
    "\n",
    "print('  ')\n",
    "\n",
    "lista = [4,3,2,1]\n",
    "for i in lista:\n",
    "    print(i)"
   ]
  },
  {
   "cell_type": "code",
   "execution_count": null,
   "metadata": {},
   "outputs": [],
   "source": [
    "#imprimindo cada elemento do intervalo [0,5[\n",
    "for i in range(0,5):\n",
    "    print(i)"
   ]
  },
  {
   "cell_type": "code",
   "execution_count": null,
   "metadata": {},
   "outputs": [],
   "source": [
    "#imprimindo os números pares da lista\n",
    "\n",
    "lista = [1,2,3,4,5,6,7,8,9,10]\n",
    "for i in lista:\n",
    "    if i % 2 == 0:\n",
    "        print(i)\n",
    "\n",
    "print('  ')\n",
    "\n",
    "for i in range(1,35):\n",
    "    if i % 2 == 0:\n",
    "        print(i)"
   ]
  },
  {
   "cell_type": "code",
   "execution_count": null,
   "metadata": {},
   "outputs": [],
   "source": [
    "#imprimindo os valores dentro de um range com incremento de 3\n",
    "\n",
    "for i in range(0,30,3):\n",
    "    print(i)"
   ]
  },
  {
   "cell_type": "code",
   "execution_count": null,
   "metadata": {},
   "outputs": [],
   "source": [
    "# printando todos os caracteres da string\n",
    "\n",
    "string = 'Tatiane Corrêa'\n",
    "for i in string:\n",
    "    print(i)"
   ]
  },
  {
   "cell_type": "markdown",
   "metadata": {},
   "source": [
    "<h3>Loop for aninhado</h3>"
   ]
  },
  {
   "cell_type": "code",
   "execution_count": null,
   "metadata": {},
   "outputs": [],
   "source": [
    "for i in range(0,3):\n",
    "    for a in range(2):\n",
    "        print(i)\n",
    "\n",
    "#Somando os valores da lista\n",
    "lista = [1,2,3]\n",
    "soma = 0\n",
    "for i in lista:\n",
    "    soma += i\n",
    "print(' ')\n",
    "print(soma)\n",
    "print(' ')\n",
    "soma = 0\n",
    "for i in range(0,11):\n",
    "    soma += i\n",
    "print(soma)\n",
    "\n",
    "#Contando os elementos de uma lista\n",
    "list = [1,2,3]\n",
    "count = 0\n",
    "for i in list:\n",
    "    count += 1\n",
    "print(' ')\n",
    "print(count)"
   ]
  },
  {
   "cell_type": "code",
   "execution_count": null,
   "metadata": {
    "scrolled": true
   },
   "outputs": [],
   "source": [
    "#meio * \n",
    "#lado --\n",
    "\n",
    "coluna = int(input('Digite o número de colunas (inteiro e ímpar): '))\n",
    "linha = int(input('Digite o número de linhas (inteiro e ímpar): '))\n",
    "\n",
    "print('Meio: coluna {}\\nMeio: linha {}'.format(coluna//2 +1,linha//2 +1))\n",
    "\n",
    "for i in range(0,linha//2):\n",
    "    print('- '*(coluna//2),'*','- '*(coluna//2))\n",
    "print(' *'*coluna)\n",
    "for i in range(0,linha//2):\n",
    "    print('- '*(coluna//2),'*','- '*(coluna//2))\n",
    "\n"
   ]
  },
  {
   "cell_type": "markdown",
   "metadata": {},
   "source": [
    "<h3>Loop While</h3>"
   ]
  },
  {
   "cell_type": "code",
   "execution_count": null,
   "metadata": {},
   "outputs": [],
   "source": [
    "#imprimindo numeros de 0 a 9\n",
    "\n",
    "num = 0\n",
    "while num <= 9:\n",
    "    print(num)\n",
    "    num += 1"
   ]
  },
  {
   "cell_type": "code",
   "execution_count": null,
   "metadata": {},
   "outputs": [],
   "source": [
    "#pegando a qtd do loop pelo input\n",
    "\n",
    "x = int(input('Digite o número de vezes que será feito o loop: '))\n",
    "i = 1\n",
    "while i < x + 1:\n",
    "    print('O valor de i nessa interação é: {}'.format(i))\n",
    "    i += 1\n",
    "else:\n",
    "    print('Agora o loop terminou! Obrigada')"
   ]
  },
  {
   "cell_type": "code",
   "execution_count": null,
   "metadata": {},
   "outputs": [],
   "source": [
    "#break e pass\n",
    "\n",
    "contador = 0\n",
    "while contador < 10:\n",
    "    if contador == 9:\n",
    "        break\n",
    "    else:\n",
    "        pass\n",
    "        print(contador)\n",
    "        contador += 1\n",
    "\n",
    "    "
   ]
  },
  {
   "cell_type": "code",
   "execution_count": null,
   "metadata": {},
   "outputs": [],
   "source": [
    "string = 'Olá humano! Como vai?'\n",
    "for i in string:\n",
    "    if i == '!' or i == '?':\n",
    "        continue\n",
    "    print(i)"
   ]
  },
  {
   "cell_type": "code",
   "execution_count": null,
   "metadata": {},
   "outputs": [],
   "source": [
    "#numeros primos -> numero > 1 e que só é divisível por ele mesmo\n",
    "# 2 à 30"
   ]
  },
  {
   "cell_type": "markdown",
   "metadata": {},
   "source": [
    "<h3>Range</h3>"
   ]
  },
  {
   "cell_type": "code",
   "execution_count": null,
   "metadata": {},
   "outputs": [],
   "source": [
    "#imprimindo números pares entre 1 e 100\n",
    "for i in range(1,101):\n",
    "    if i % 2 == 0:\n",
    "        print(i)"
   ]
  },
  {
   "cell_type": "code",
   "execution_count": null,
   "metadata": {},
   "outputs": [],
   "source": [
    "#imprimindo números de 0 a 100 de 3 em 3 e contando quantos números são\n",
    "\n",
    "count = 0\n",
    "for i in range(0,101,3):\n",
    "    print(i)\n",
    "    count += 1\n",
    "\n",
    "print('\\nExistem {} números entre 0 e 100, de 3 em 3'.format(count))"
   ]
  },
  {
   "cell_type": "code",
   "execution_count": null,
   "metadata": {},
   "outputs": [],
   "source": [
    "type(range(0,10))"
   ]
  },
  {
   "cell_type": "markdown",
   "metadata": {},
   "source": [
    "<h3>Métodos</h3>"
   ]
  },
  {
   "cell_type": "markdown",
   "metadata": {},
   "source": [
    "<h5>Listas</h5>"
   ]
  },
  {
   "cell_type": "code",
   "execution_count": null,
   "metadata": {},
   "outputs": [],
   "source": [
    "#adicionando elemento em uma lista usando o método append()\n",
    "lista = [1,2,3]\n",
    "lista.append(4)\n",
    "print(lista)"
   ]
  },
  {
   "cell_type": "code",
   "execution_count": null,
   "metadata": {},
   "outputs": [],
   "source": [
    "#ordenando uma lista usando o método sort()\n",
    "lista = [3,2,7,4,0,6]\n",
    "lista.sort()\n",
    "print(lista)"
   ]
  },
  {
   "cell_type": "code",
   "execution_count": null,
   "metadata": {},
   "outputs": [],
   "source": [
    "#buscando a posição de um elemento na lista\n",
    "lista.index(4)"
   ]
  },
  {
   "cell_type": "code",
   "execution_count": null,
   "metadata": {},
   "outputs": [],
   "source": [
    "#invertendo a posição dos elementos na lista\n",
    "#help(lista.reverse)\n",
    "lista.reverse()\n",
    "print(lista)"
   ]
  },
  {
   "cell_type": "markdown",
   "metadata": {},
   "source": [
    "<h5>Tuplas</h5>"
   ]
  },
  {
   "cell_type": "code",
   "execution_count": null,
   "metadata": {},
   "outputs": [],
   "source": [
    "tupla = (1,3,5,1,9,9,9,9,5,2,4,8)\n",
    "tupl = ('Tati','Je','Tati','Tati','Je')\n",
    "\n",
    "print('A primeira tupla possui {} elementos\\n'.format(len(tupla)))\n",
    "print('A segunda tupla possui {} elementos\\n'.format(len(tupl)))\n",
    "\n",
    "#busca a posição do argumento na tupla\n",
    "print('A posição do número 8 na tupla é {}º\\n'.format(tupla.index(8)))\n",
    "#conta a frequência do argumento na tupla\n",
    "print('Aparecem {} números 9 na tupla'.format(tupla.count(9)))\n",
    "\n",
    "#help(tupl.count)\n",
    "print('Aparecem {} vezes o nome \"Tati\" na tupla'.format(tupl.count('Tati')))\n",
    "print('Aparecem {} vezes o nome \"Je\" na tupla'.format(tupl.count('Je')))\n"
   ]
  },
  {
   "cell_type": "code",
   "execution_count": null,
   "metadata": {},
   "outputs": [],
   "source": [
    "texto = 'um belo dia eu resolvi mudar e fazer coisas que sempre quis fazer.'\n",
    "\n",
    "#coloca a primeira letra do texto em maiúsculo\n",
    "print(texto.capitalize())\n",
    "\n",
    "#retorna a frequência do argumento no texto\n",
    "print(texto.count('a'))\n",
    "\n",
    "#busca o argumento no texto\n",
    "print(texto.find('.'))\n",
    "\n",
    "#verifica se o texto está em letras minúsculas\n",
    "print(texto.islower())\n",
    "\n",
    "#verifica se o texto é numérico\n",
    "print(texto.isnumeric())\n",
    "\n",
    "#fatia o texto e retorna uma lista\n",
    "print(texto.split())\n"
   ]
  },
  {
   "cell_type": "markdown",
   "metadata": {},
   "source": [
    "<h3>Funções</h3>"
   ]
  },
  {
   "cell_type": "code",
   "execution_count": null,
   "metadata": {},
   "outputs": [],
   "source": [
    "import math\n",
    "\n",
    "def primeiraFunc():\n",
    "    print('Essa é a minha primeira função')\n",
    "    \n",
    "primeiraFunc()"
   ]
  },
  {
   "cell_type": "code",
   "execution_count": null,
   "metadata": {},
   "outputs": [],
   "source": [
    "def funcSoma(a,b):\n",
    "    return a+b\n",
    "\n",
    "funcSoma(1,1)"
   ]
  },
  {
   "cell_type": "code",
   "execution_count": null,
   "metadata": {},
   "outputs": [],
   "source": [
    "def funFun(x):\n",
    "    return math.cos(x)\n",
    "\n",
    "funFun(90)"
   ]
  },
  {
   "cell_type": "code",
   "execution_count": null,
   "metadata": {},
   "outputs": [],
   "source": [
    "def upperCase(s):\n",
    "    upper = s.upper()\n",
    "    return upper\n",
    "\n",
    "upperCase('oi tudo bom com vc?')"
   ]
  },
  {
   "cell_type": "code",
   "execution_count": null,
   "metadata": {
    "scrolled": true
   },
   "outputs": [],
   "source": [
    "s = 'Texto para estudar a função built-in split()'\n",
    "\n",
    "lista = s.split()\n",
    "print(lista)"
   ]
  },
  {
   "cell_type": "code",
   "execution_count": null,
   "metadata": {},
   "outputs": [],
   "source": [
    "def funcSplit(texto):\n",
    "    return texto.split()\n",
    "\n",
    "funcSplit('Falam tanto de Deus e o Diabo.')"
   ]
  },
  {
   "cell_type": "markdown",
   "metadata": {},
   "source": [
    "<h3>Lambda</h3>"
   ]
  },
  {
   "cell_type": "code",
   "execution_count": null,
   "metadata": {},
   "outputs": [],
   "source": [
    "Potencia = lambda x: x**x\n",
    "\n",
    "Potencia(3)"
   ]
  },
  {
   "cell_type": "markdown",
   "metadata": {},
   "source": [
    "<h1>CAPÍTULO 4</h1>"
   ]
  },
  {
   "cell_type": "markdown",
   "metadata": {},
   "source": [
    "<h3>Arquivos</h3>"
   ]
  },
  {
   "cell_type": "markdown",
   "metadata": {},
   "source": [
    "<h4>Funções built-n</h4>"
   ]
  },
  {
   "cell_type": "code",
   "execution_count": null,
   "metadata": {},
   "outputs": [],
   "source": [
    "arquivo = open(\"PythonFundamentos/Cap04/Notebooks/arquivos/arquivo1.txt\",'r')"
   ]
  },
  {
   "cell_type": "code",
   "execution_count": null,
   "metadata": {},
   "outputs": [],
   "source": [
    "type(open)"
   ]
  },
  {
   "cell_type": "code",
   "execution_count": null,
   "metadata": {},
   "outputs": [],
   "source": [
    "arquivo.read()"
   ]
  },
  {
   "cell_type": "code",
   "execution_count": null,
   "metadata": {},
   "outputs": [],
   "source": [
    "arquivo.tell()"
   ]
  },
  {
   "cell_type": "code",
   "execution_count": null,
   "metadata": {},
   "outputs": [],
   "source": [
    "arquivo = open(\"PythonFundamentos/Cap04/Notebooks/arquivos/arquivo1.txt\",\"w\")\n",
    "arquivo.write(\"Olá\")\n",
    "arquivo.close()\n"
   ]
  },
  {
   "cell_type": "code",
   "execution_count": null,
   "metadata": {},
   "outputs": [],
   "source": [
    "arquivo = open(\"PythonFundamentos/Cap04/Notebooks/arquivos/arquivo1.txt\",\"r\")\n",
    "arquivo.read()\n",
    "arquivo.close()"
   ]
  },
  {
   "cell_type": "code",
   "execution_count": null,
   "metadata": {},
   "outputs": [],
   "source": [
    "arquivo = open(\"PythonFundamentos/Cap04/Notebooks/arquivos/arquivo1.txt\",\"a\")\n",
    "arquivo.write(\"\\n Acrescentando uma linha\")\n",
    "arquivo.close()"
   ]
  },
  {
   "cell_type": "code",
   "execution_count": null,
   "metadata": {},
   "outputs": [],
   "source": [
    "arquivo = open(\"PythonFundamentos/Cap04/Notebooks/arquivos/arquivo1.txt\",\"r\")\n",
    "arquivo.read()"
   ]
  },
  {
   "cell_type": "code",
   "execution_count": null,
   "metadata": {
    "scrolled": false
   },
   "outputs": [],
   "source": [
    "arquivo = open(\"PythonFundamentos/Cap04/Notebooks/arquivos/salarios.csv\",\"r\")\n",
    "dados = arquivo.read()\n",
    "linhas = dados.split('\\n')\n",
    "linhas"
   ]
  },
  {
   "cell_type": "code",
   "execution_count": null,
   "metadata": {},
   "outputs": [],
   "source": [
    "type(dados)"
   ]
  },
  {
   "cell_type": "code",
   "execution_count": null,
   "metadata": {},
   "outputs": [],
   "source": [
    "type(linhas)"
   ]
  },
  {
   "cell_type": "markdown",
   "metadata": {},
   "source": [
    "<h4>Número de linhas de um arquivo csv</h4>"
   ]
  },
  {
   "cell_type": "code",
   "execution_count": null,
   "metadata": {},
   "outputs": [],
   "source": [
    "arquivo = open(\"PythonFundamentos/Cap04/Notebooks/arquivos/salarios.csv\",\"r\")\n",
    "dados = arquivo.read()\n",
    "linhas = dados.split('\\n')\n",
    "\n",
    "cont = 0\n",
    "for i in linhas:\n",
    "    cont += 1\n",
    "    \n",
    "cont"
   ]
  },
  {
   "cell_type": "code",
   "execution_count": null,
   "metadata": {},
   "outputs": [],
   "source": [
    "type(linhas)"
   ]
  },
  {
   "cell_type": "markdown",
   "metadata": {},
   "source": [
    "<h4>Lendo arquivo csv</h4>"
   ]
  },
  {
   "cell_type": "code",
   "execution_count": null,
   "metadata": {},
   "outputs": [],
   "source": [
    "import pandas as pd\n",
    "\n",
    "file = \"PythonFundamentos/Cap04/Notebooks/arquivos/binary.csv\"\n",
    "\n",
    "dataFrame = pd.read_csv(file)\n",
    "\n",
    "dataFrame"
   ]
  },
  {
   "cell_type": "code",
   "execution_count": null,
   "metadata": {},
   "outputs": [],
   "source": [
    "file2 = \"PythonFundamentos/Cap04/Notebooks/arquivos/salarios.csv\"\n",
    "df = pd.read_csv(file2)\n",
    "df"
   ]
  },
  {
   "cell_type": "code",
   "execution_count": null,
   "metadata": {},
   "outputs": [],
   "source": [
    "texto = \"Fome\"\n",
    "texto += \" + Sono\"\n",
    "texto"
   ]
  },
  {
   "cell_type": "markdown",
   "metadata": {},
   "source": [
    "<h4>Expressao with</h4>"
   ]
  },
  {
   "cell_type": "code",
   "execution_count": null,
   "metadata": {},
   "outputs": [],
   "source": [
    "with open('PythonFundamentos/Cap04/Notebooks/arquivos/cientista.txt',\"r\") as arquivo:\n",
    "    texto = arquivo.read()\n",
    "    \n",
    "texto"
   ]
  },
  {
   "cell_type": "code",
   "execution_count": null,
   "metadata": {},
   "outputs": [],
   "source": [
    "with open(\"PythonFundamentos/Cap04/Notebooks/arquivos/cientista.txt\",\"w\") as arquivo:\n",
    "    arquivo.write(\"Vou ali e já volto.\\nMe aguarde, por favor!\")\n",
    "\n",
    "arquivo = open(\"PythonFundamentos/Cap04/Notebooks/arquivos/cientista.txt\",\"r\")\n",
    "arquivo.readlines()"
   ]
  },
  {
   "cell_type": "markdown",
   "metadata": {},
   "source": [
    "<h4>Arquivos csv</h4>"
   ]
  },
  {
   "cell_type": "code",
   "execution_count": null,
   "metadata": {},
   "outputs": [],
   "source": [
    "import csv"
   ]
  },
  {
   "cell_type": "code",
   "execution_count": null,
   "metadata": {},
   "outputs": [],
   "source": [
    "with open(\"PythonFundamentos/Cap04/Notebooks/arquivos/numeros.csv\",\"w\") as arquivo:\n",
    "    writer = csv.writer(arquivo)\n",
    "    writer.writerow((\"primeira\",\"segunda\",\"terceira\"))\n",
    "\n",
    "with open(\"PythonFundamentos/Cap04/Notebooks/arquivos/numeros.csv\",\"r\") as arquivo:\n",
    "    leitor = csv.reader(arquivo)\n"
   ]
  },
  {
   "cell_type": "markdown",
   "metadata": {},
   "source": [
    "<h1>CAPÍTULO 5</h1>"
   ]
  },
  {
   "cell_type": "markdown",
   "metadata": {},
   "source": [
    "<h1>CAPÍTULO 6</h1>"
   ]
  },
  {
   "cell_type": "markdown",
   "metadata": {},
   "source": [
    "<h1>CAPÍTULO 7</h1>"
   ]
  },
  {
   "cell_type": "markdown",
   "metadata": {},
   "source": [
    "<h1>CAPÍTULO 8</h1>"
   ]
  },
  {
   "cell_type": "markdown",
   "metadata": {},
   "source": [
    "<h1>CAPÍTULO 9</h1>"
   ]
  },
  {
   "cell_type": "markdown",
   "metadata": {},
   "source": [
    "<h1>CAPÍTULO 10</h1>"
   ]
  },
  {
   "cell_type": "markdown",
   "metadata": {},
   "source": [
    "<h1>CAPÍTULO 11</h1>"
   ]
  },
  {
   "cell_type": "markdown",
   "metadata": {},
   "source": [
    "<h1>CAPÍTULO 12</h1>"
   ]
  },
  {
   "cell_type": "markdown",
   "metadata": {},
   "source": [
    "<h1>CAPÍTULO 13</h1>"
   ]
  },
  {
   "cell_type": "markdown",
   "metadata": {},
   "source": [
    "<h1>CAPÍTULO 14</h1>"
   ]
  },
  {
   "cell_type": "markdown",
   "metadata": {},
   "source": [
    "<h1>CAPÍTULO 15</h1>"
   ]
  },
  {
   "cell_type": "markdown",
   "metadata": {},
   "source": [
    "<h3>Aleatórios</h3>"
   ]
  },
  {
   "cell_type": "code",
   "execution_count": null,
   "metadata": {
    "scrolled": false
   },
   "outputs": [],
   "source": [
    "import matplotlib.pyplot as plt \n",
    "x = [1,2,3,4,6,8,10,12,14,16,20]\n",
    "y = [1,4,9,16,36,64,100,144,196,256,400]\n",
    "plt.title('Gráfico em Python com Matplotlib')\n",
    "plt.plot(x,y,label='Legenda')\n",
    "plt.xlabel('Eixo x')\n",
    "plt.ylabel('Eixo y')\n",
    "plt.legend()\n",
    "plt.show()\n",
    "\n",
    "import matplotlib.pyplot as plt\n",
    "x = [1,3,5]\n",
    "y = [2,4,6]\n",
    "plt.plot(x,y)\n",
    "plt.show()"
   ]
  },
  {
   "cell_type": "code",
   "execution_count": null,
   "metadata": {},
   "outputs": [],
   "source": [
    "list1 = [1,2,3,4]\n",
    "list2 = [1,4,9,16]\n",
    "#list3 = list1 + list2\n",
    "\n",
    "list3 = []\n",
    "for i in range(len(list1)):\n",
    "    list3.append(list1[i])\n",
    "    list3.append(list2[i])\n",
    "\n",
    "print(list3)"
   ]
  },
  {
   "cell_type": "code",
   "execution_count": null,
   "metadata": {},
   "outputs": [],
   "source": [
    "'''\n",
    "Faça um programa que leia uma matriz 4x3 com\n",
    "números reais. Calcule e mostre: \n",
    "(a) o maior elemento da matriz e sua respectiva posição (linha e coluna); \n",
    "(b) o menor elemento da matriz e sua respectiva posição.\n",
    "'''\n",
    "m = [[120.01,230.03,110.20],[110.06,512.22,623.79],[732.01,338.20,-922.80],[420.01,450.03,105.20]]\n",
    "\n",
    "menor = maior =  m[0][0]\n",
    "pos_maior = pos_menor = []\n",
    "\n",
    "#Procurar o menor numero \n",
    "for i in range(4):\n",
    "    for j in range(3):\n",
    "        if m[i][j] < menor:\n",
    "            menor = m[i][j]\n",
    "            pos_menor = [i+1,j+1]\n",
    "    print(m[i][0],' ',m[i][1],' ',m[i][2]) \n",
    "\n",
    "    #Procurar o maior numero \n",
    "    for b in range(3):\n",
    "        if m[i][b] > maior:\n",
    "            maior = m[i][b]\n",
    "            #linha_maior = i\n",
    "            #coluna_maior = j\n",
    "            pos_maior = [i+1,b+1]\n",
    "\n",
    "print('O maior número é o {}, que está na posição {}'.format(maior,pos_maior))\n",
    "print('O menor número é o {}, que está na posição {}'.format(menor,pos_menor))"
   ]
  },
  {
   "cell_type": "code",
   "execution_count": null,
   "metadata": {},
   "outputs": [],
   "source": [
    "# y = (sum o ate n-1 de (xi) )^2 + zmedio + sum 0 ate n-1(wi^2), n int é o tamanho dos vetores\n",
    "#zmedio = media do vecz\n",
    "\n",
    "# func = (xvector,y.zvec,wvec)\n",
    "\n",
    "def calculaFunc():        \n",
    "    x = [0,1]\n",
    "    w = [0,1]\n",
    "    z = [0,1]\n",
    "    \n",
    "    zmedio = (z[0]+z[1])/2\n",
    "    \n",
    "    for i in x:\n",
    "        sum_x = x[i]\n",
    "        sum_x_square = sum_x*sum_x\n",
    "    \n",
    "    for j in w:\n",
    "        sum_w = w[j]*w[j]\n",
    "\n",
    "    y = sum_x_square + zmedio + sum_w\n",
    "    \n",
    "    print(y)\n",
    "\n",
    "calculaFunc()"
   ]
  },
  {
   "cell_type": "code",
   "execution_count": null,
   "metadata": {},
   "outputs": [],
   "source": [
    "string = input('Digite aqui a palavra: ')\n",
    "char = input('Digite aqui o char a ser encontrado no texto: ')\n",
    "\n",
    "print(string.find(char))\n"
   ]
  },
  {
   "cell_type": "code",
   "execution_count": null,
   "metadata": {},
   "outputs": [],
   "source": [
    "#c = a*x + b\n",
    "\n",
    "a = b = [[1,2],[3,4]]\n",
    "x = (a[0][0] + a[1][0])/2\n",
    "c = []\n",
    "lst1 = []\n",
    "lst2 = []\n",
    "\n",
    "for i in range(2):\n",
    "    for j in range(2):\n",
    "        c.append(x*a[i][j] + b[i][j])\n",
    "    lst1.append(c[i])\n",
    "for a in range(2,4):\n",
    "    lst2.append(c[a])\n",
    "\n",
    "c_lst = [lst1,lst2]\n",
    "print(c_lst)"
   ]
  },
  {
   "cell_type": "code",
   "execution_count": null,
   "metadata": {},
   "outputs": [],
   "source": [
    "a = [1,2,3,4]\n",
    "def somaPareImpar():\n",
    "    sum_par = sum_impar = 0\n",
    "    for i in range(0,4):\n",
    "        if i % 2 == 0:\n",
    "            sum_par += a[i]\n",
    "        else:\n",
    "            sum_impar += a[i]\n",
    "   \n",
    "    print('A soma dos pares é {}.\\nA soma dos ímpares é {}'.format(sum_par,sum_impar))\n",
    "\n",
    "somaPareImpar()\n",
    "    "
   ]
  },
  {
   "cell_type": "code",
   "execution_count": null,
   "metadata": {},
   "outputs": [],
   "source": [
    "for i in range(101):\n",
    "    print('carregando'.upper(),'#'*i)\n",
    "    print(i,'%')\n",
    "\n",
    "print(\"nasa succefully hacked!\".upper())"
   ]
  },
  {
   "cell_type": "code",
   "execution_count": null,
   "metadata": {},
   "outputs": [],
   "source": [
    "palavra = list(input())\n",
    "palavra.reverse()\n",
    "traducao = ''\n",
    "\n",
    "for i in palavra:\n",
    "    traducao +=i\n",
    "print(traducao)"
   ]
  },
  {
   "cell_type": "code",
   "execution_count": null,
   "metadata": {},
   "outputs": [],
   "source": [
    "tamanho = int(input())\n",
    "sum = 0\n",
    "\n",
    "for i in range(tamanho):\n",
    "    elemento = int(input())\n",
    "\n",
    "elemento\n",
    "\n",
    "#print('a soma é ',sum)"
   ]
  },
  {
   "cell_type": "code",
   "execution_count": 45,
   "metadata": {},
   "outputs": [
    {
     "name": "stdout",
     "output_type": "stream",
     "text": [
      "9:54 PM\n",
      "21:54\n"
     ]
    }
   ],
   "source": [
    "import re\n",
    "tudo = input()\n",
    "tudo_lista = re.split('\\s',tudo)\n",
    "hora_lista = re.split(':',tudo_lista[0])\n",
    "formato_12h = [str(x) for x in range(1,13)]\n",
    "formato_24h = [str(x) for x in range(13,24)]\n",
    "formato_24h.append('0')\n",
    "\n",
    "\n",
    "if tudo_lista[1] == 'AM' and hora_lista[0] != \"12\":\n",
    "    print(hora_lista[0] + ':' + hora_lista[1])\n",
    "elif tudo_lista[1] == 'AM' and hora_lista[0] == \"12\":\n",
    "    print(formato_24h[12-1] + ':' + hora_lista[1])\n",
    "\n",
    "if tudo_lista[1] == 'PM':\n",
    "    for i in range(len(formato_12h)):\n",
    "        if hora_lista[0] == formato_12h[i]:\n",
    "                   print(formato_24h[i] + \":\" + hora_lista[1])"
   ]
  }
 ],
 "metadata": {
  "kernelspec": {
   "display_name": "Python 3",
   "language": "python",
   "name": "python3"
  },
  "language_info": {
   "codemirror_mode": {
    "name": "ipython",
    "version": 3
   },
   "file_extension": ".py",
   "mimetype": "text/x-python",
   "name": "python",
   "nbconvert_exporter": "python",
   "pygments_lexer": "ipython3",
   "version": "3.7.3"
  }
 },
 "nbformat": 4,
 "nbformat_minor": 2
}
