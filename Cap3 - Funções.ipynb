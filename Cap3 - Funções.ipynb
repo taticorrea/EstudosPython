{
 "cells": [
  {
   "cell_type": "markdown",
   "metadata": {},
   "source": [
    "<h1> Exercícios - Funções</h1>"
   ]
  },
  {
   "cell_type": "code",
   "execution_count": null,
   "metadata": {},
   "outputs": [],
   "source": [
    "# Exercício 1 - Crie uma função que imprima a sequência de números pares entre 1 e 20 (a função não recebe parâmetro) e \n",
    "# depois faça uma chamada à função para listar os números      \n",
    "\n",
    "# Exercício 2 - Crie uam função que receba uma string como argumento e retorne a mesma string em letras maiúsculas.\n",
    "# Faça uma chamada à função, passando como parâmetro uma string\n",
    "\n",
    "# Exercício 3 - Crie uma função que receba como parâmetro uma lista de 4 elementos, adicione 2 elementos a lista e \n",
    "# imprima a lista\n",
    "\n",
    "# Exercício 4 - Crie uma função que receba um argumento formal e uma possível lista de elementos. Faça duas chamadas \n",
    "# à função, com apenas 1 elemento e na segunda chamada com 4 elementos\n",
    "\n",
    "# Exercício 5 - Crie uma função anônima e atribua seu retorno a uma variável chamada soma. A expressão vai receber 2 \n",
    "# números como parâmetro e retornar a soma deles\n",
    "\n",
    "# Exercício 6 - Execute o código abaixo e certifique-se que compreende a diferença entre variável global e local\n",
    "total = 0\n",
    "def soma( arg1, arg2 ):\n",
    "    total = arg1 + arg2; \n",
    "    print (\"Dentro da função o total é: \", total)\n",
    "    return total;\n",
    "\n",
    "\n",
    "soma( 10, 20 );\n",
    "print (\"Fora da função o total é: \", total)\n",
    "\n",
    "# Exercício 7 - Abaixo você encontra uma lista com temperaturas em graus Celsius\n",
    "# Crie uma função anônima que converta cada temperatura para Fahrenheit\n",
    "# Dica: para conseguir realizar este exercício, você deve criar sua função lambda, dentro de uma função \n",
    "# (que será estudada no próximo capítulo). Isso permite aplicar sua função a cada elemento da lista\n",
    "# Como descobrir a fórmula matemática que converte de Celsius para Fahrenheit? Pesquise!!!\n",
    "Celsius = [39.2, 36.5, 37.3, 37.8]\n",
    "Fahrenheit = map(coloque_aqui_sua_função_lambda)\n",
    "print (list(Fahrenheit))\n",
    "\n",
    "# Exercício 8\n",
    "# Crie um dicionário e liste todos os métodos e atributos do dicionário\n",
    "\n",
    "# Exercício 9\n",
    "# Abaixo você encontra a importação do Pandas, um dos principais pacotes Python para análise de dados.\n",
    "# Analise atentamente todos os métodos disponíveis. Um deles você vai usar no próximo exercício.\n",
    "import pandas as pd\n",
    "dir(pd)\n",
    "\n",
    "# ************* Desafio ************* (pesquise na documentação Python)\n",
    "\n",
    "# Exercício 10 - Crie uma função que receba o arquivo abaixo como argumento e retorne um resumo estatístico descritivo \n",
    "# do arquivo. Dica, use Pandas e um de seus métodos, describe()\n",
    "# Arquivo: \"binary.csv\"\n",
    "import pandas as pd\n",
    "file_name = \"binary.csv\"\n",
    " "
   ]
  },
  {
   "cell_type": "code",
   "execution_count": null,
   "metadata": {},
   "outputs": [],
   "source": [
    "#Exercício 1\n",
    "def numPar():\n",
    "    for i in range(1,21):\n",
    "        if i % 2 == 0:\n",
    "            print(i)\n",
    "\n",
    "numPar()        "
   ]
  },
  {
   "cell_type": "code",
   "execution_count": null,
   "metadata": {},
   "outputs": [],
   "source": [
    "#Exercício 2\n",
    "\n",
    "def maiusculo(texto):\n",
    "    print(texto.upper())\n",
    "\n",
    "maiusculo('olá mundo')    "
   ]
  },
  {
   "cell_type": "code",
   "execution_count": null,
   "metadata": {},
   "outputs": [],
   "source": [
    "#Exercício 3\n",
    "\n",
    "def paramLista(lst):\n",
    "    lst.append(1)\n",
    "    lst.append(2)\n",
    "    print(lst)\n",
    "    \n",
    "paramLista([4,4,4,4])    "
   ]
  },
  {
   "cell_type": "code",
   "execution_count": null,
   "metadata": {},
   "outputs": [],
   "source": [
    "#Exercício 4"
   ]
  },
  {
   "cell_type": "code",
   "execution_count": null,
   "metadata": {},
   "outputs": [],
   "source": [
    "#Exercício 5\n",
    "\n",
    "soma = lambda x,y: x+y\n",
    "\n",
    "soma(1,2)"
   ]
  },
  {
   "cell_type": "code",
   "execution_count": null,
   "metadata": {},
   "outputs": [],
   "source": [
    "#Exercício 6\n",
    "\n",
    "total = 0\n",
    "def soma( arg1, arg2 ):\n",
    "    total = arg1 + arg2; \n",
    "    print (\"Dentro da função o total é: \", total)\n",
    "    return total;\n",
    "\n",
    "\n",
    "soma( 10, 20 );\n",
    "print (\"Fora da função o total é: \", total)"
   ]
  },
  {
   "cell_type": "code",
   "execution_count": null,
   "metadata": {},
   "outputs": [],
   "source": [
    "#Exercício 7\n",
    "\n",
    "#implementando com a função built-in map()\n",
    "celsius = [40, 100, 0, 32]\n",
    "Farenheit = map(lambda f: 32 + (9/5)*f,celsius)\n",
    "print(list(Farenheit))\n",
    "\n",
    "\n",
    "#implementando uma função tipo map()\n",
    "farenheit = []\n",
    "def funcMap(lista):\n",
    "    for i in celsius:\n",
    "        f = 32 + (9/5)*i\n",
    "        farenheit.append(f)\n",
    "    print(farenheit)\n",
    "        \n",
    "converTemp(celsius)"
   ]
  },
  {
   "cell_type": "code",
   "execution_count": null,
   "metadata": {},
   "outputs": [],
   "source": [
    "#Exercício 8\n",
    "\n",
    "#criando dicionário\n",
    "dic = {'chave1':'valor1','chave2':'valor2','chave3':'valor3','chave4':'valor4'}\n",
    "\n",
    "#imprimindo todos os métodos e atributos disponíveis para esse dicionário\n",
    "dir(dic)"
   ]
  },
  {
   "cell_type": "code",
   "execution_count": null,
   "metadata": {},
   "outputs": [],
   "source": [
    "#Exercício 9\n",
    "\n",
    "import pandas as pd\n",
    "\n",
    "dir(pd)"
   ]
  },
  {
   "cell_type": "code",
   "execution_count": 35,
   "metadata": {},
   "outputs": [
    {
     "name": "stdout",
     "output_type": "stream",
     "text": [
      "\n",
      "          DADOS \n",
      "\n",
      "    admit  gre   gpa  rank\n",
      "0      0  380  3.61     3\n",
      "1      1  660  3.67     3\n",
      "2      1  880  4.00     1\n",
      "3      1  640  3.19     4\n",
      "4      0  520  2.93     4\n",
      "\n",
      "\n",
      "\n",
      "          DESCRIÇÃO ESTATÍSTICA\n",
      "\n",
      "           admit         gre       gpa      rank\n",
      "count  5.000000    5.000000  5.000000  5.000000\n",
      "mean   0.600000  616.000000  3.480000  3.000000\n",
      "std    0.547723  185.148589  0.421307  1.224745\n",
      "min    0.000000  380.000000  2.930000  1.000000\n",
      "25%    0.000000  520.000000  3.190000  3.000000\n",
      "50%    1.000000  640.000000  3.610000  3.000000\n",
      "75%    1.000000  660.000000  3.670000  4.000000\n",
      "max    1.000000  880.000000  4.000000  4.000000\n"
     ]
    }
   ],
   "source": [
    "#Exercício 10\n",
    "\n",
    "import pandas as pd\n",
    "df = pd.read_csv('binary.csv')\n",
    "print('\\n' + 10*' ' + 'DADOS \\n\\n',df)\n",
    "\n",
    "def descEstat(data):\n",
    "    print('\\n\\n\\n' + 10*' ' + 'DESCRIÇÃO ESTATÍSTICA\\n\\n',data.describe())\n",
    "    \n",
    "    \n",
    "descEstat(df)\n"
   ]
  }
 ],
 "metadata": {
  "kernelspec": {
   "display_name": "Python 3",
   "language": "python",
   "name": "python3"
  },
  "language_info": {
   "codemirror_mode": {
    "name": "ipython",
    "version": 3
   },
   "file_extension": ".py",
   "mimetype": "text/x-python",
   "name": "python",
   "nbconvert_exporter": "python",
   "pygments_lexer": "ipython3",
   "version": "3.7.3"
  }
 },
 "nbformat": 4,
 "nbformat_minor": 2
}
